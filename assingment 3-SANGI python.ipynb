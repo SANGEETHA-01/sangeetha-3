{
 "cells": [
  {
   "cell_type": "markdown",
   "metadata": {},
   "source": [
    "# DAY 4-ASSINGMENT 3"
   ]
  },
  {
   "cell_type": "code",
   "execution_count": 1,
   "metadata": {},
   "outputs": [
    {
     "name": "stdout",
     "output_type": "stream",
     "text": [
      "1741725 = is a first amstrong number\n"
     ]
    }
   ],
   "source": [
    "for i in range(1042000,70264865):\n",
    "    num=i\n",
    "    sum=0\n",
    "    temp=num\n",
    "    n=len(str(num))\n",
    "    while temp>0:\n",
    "        digit=temp%10\n",
    "        sum+=digit**n\n",
    "        temp//=10\n",
    "    if num==sum:\n",
    "        print(num,\"= is a first amstrong number\")\n",
    "        break"
   ]
  },
  {
   "cell_type": "code",
   "execution_count": null,
   "metadata": {},
   "outputs": [],
   "source": []
  }
 ],
 "metadata": {
  "kernelspec": {
   "display_name": "Python 3",
   "language": "python",
   "name": "python3"
  },
  "language_info": {
   "codemirror_mode": {
    "name": "ipython",
    "version": 3
   },
   "file_extension": ".py",
   "mimetype": "text/x-python",
   "name": "python",
   "nbconvert_exporter": "python",
   "pygments_lexer": "ipython3",
   "version": "3.8.3"
  }
 },
 "nbformat": 4,
 "nbformat_minor": 4
}
